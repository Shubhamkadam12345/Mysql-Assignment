{
 "cells": [
  {
   "cell_type": "code",
   "execution_count": null,
   "id": "bff775b6-f091-4437-b4f1-ccd3d62fd645",
   "metadata": {},
   "outputs": [],
   "source": [
    "Q.1"
   ]
  },
  {
   "cell_type": "code",
   "execution_count": null,
   "id": "ffc981d2-74b8-4ed8-9fa2-d7d4f8def666",
   "metadata": {},
   "outputs": [],
   "source": [
    "a database is an organized collection of structured information or data, trypically stroed electronically in a computer system"
   ]
  },
  {
   "cell_type": "code",
   "execution_count": null,
   "id": "8bba0bc3-43bf-45d6-9573-756d8dd64d8f",
   "metadata": {},
   "outputs": [],
   "source": [
    "SQL :-                                                            \n",
    "\n",
    "Relational Database management\n",
    "system.\n",
    "\n",
    "Vertically scalable.\n",
    "\n",
    "Fixed or predifined schema\n",
    "\n",
    "Not suitable for hierarchical\n",
    "data storage.\n",
    "\n",
    "can be used for complex queries."
   ]
  },
  {
   "cell_type": "code",
   "execution_count": null,
   "id": "2786ab66-c2f6-4993-9398-d4f0c13d37bb",
   "metadata": {},
   "outputs": [],
   "source": [
    "No SQL :-\n",
    "\n",
    "Distributed Database management system.\n",
    "\n",
    "Horizontally scalable.\n",
    "\n",
    "Dynamic Schema.\n",
    "\n",
    "Best suitable for hierar chicaldata \n",
    "storage.\n",
    "\n",
    "Not good for complex queries."
   ]
  },
  {
   "cell_type": "code",
   "execution_count": null,
   "id": "33c954cf-0a08-4bb4-bb00-e2b5ee96ea4e",
   "metadata": {},
   "outputs": [],
   "source": [
    "Q.2"
   ]
  },
  {
   "cell_type": "code",
   "execution_count": null,
   "id": "0a124cba-3342-45f0-b1bc-f3d95683bc9d",
   "metadata": {},
   "outputs": [],
   "source": [
    "DDL is a standardized language with commands to define the storage group ( storgroups )\n",
    "different structures and objects in a database."
   ]
  },
  {
   "cell_type": "code",
   "execution_count": null,
   "id": "fac913e5-802d-42a5-a2e6-c0cd9893dfdd",
   "metadata": {},
   "outputs": [],
   "source": [
    "The TRUNCATE TAPLE command deletes the data inside a table, but not table itself."
   ]
  },
  {
   "cell_type": "code",
   "execution_count": null,
   "id": "ed93a0b8-869a-4a77-9654-132e7e642d2b",
   "metadata": {},
   "outputs": [],
   "source": [
    "Examples :-"
   ]
  },
  {
   "cell_type": "code",
   "execution_count": null,
   "id": "eaf12388-e70d-4338-9b93-9cfcdf57e6ea",
   "metadata": {},
   "outputs": [],
   "source": [
    "1) TRUNCATE :-\n",
    "               TRUNCATE command is used to.....\n",
    "    Example:- Truncate table table name"
   ]
  },
  {
   "cell_type": "code",
   "execution_count": null,
   "id": "4cd4a9c7-dc27-4bf2-93c5-d07e5e31732b",
   "metadata": {},
   "outputs": [],
   "source": [
    "2) DROP:-\n",
    "         DROP command is used to .....\n",
    "    Example:- drop table table name"
   ]
  },
  {
   "cell_type": "code",
   "execution_count": null,
   "id": "037a5914-c4c2-4b5d-bfef-6e8fb965e4f0",
   "metadata": {},
   "outputs": [],
   "source": [
    "3) CREATE TABLE person( \n",
    "    person ID int,\n",
    "    Last name varchar (255),\n",
    "    First name varchar (255),\n",
    "    Address varchar (255),\n",
    "    City varchar ( 255), "
   ]
  },
  {
   "cell_type": "code",
   "execution_count": null,
   "id": "53787b38-8e04-4a3e-b2b1-f53539dd6a48",
   "metadata": {},
   "outputs": [],
   "source": [
    "4) ALTER TABLE customers\n",
    "   ADD Email varchar ( 255 );"
   ]
  },
  {
   "cell_type": "code",
   "execution_count": null,
   "id": "6f5bc446-b8bf-4eba-b3c0-764f2cd7bb38",
   "metadata": {},
   "outputs": [],
   "source": [
    "Q.3"
   ]
  },
  {
   "cell_type": "code",
   "execution_count": null,
   "id": "1b6a90ea-40c9-44f6-b883-6408b26b207c",
   "metadata": {},
   "outputs": [],
   "source": [
    "A data manipulation language (DML) is a family of computer languages inculiding comande permitting \n",
    "users to manipulate data in a database."
   ]
  },
  {
   "cell_type": "code",
   "execution_count": null,
   "id": "147122ff-d806-4afa-b1c4-a7fe00450374",
   "metadata": {},
   "outputs": [],
   "source": [
    "1) INSERT statement indroduces new rows into an existing table"
   ]
  },
  {
   "cell_type": "code",
   "execution_count": null,
   "id": "3d965d3d-490a-42cf-82df-62a5ca75b93c",
   "metadata": {},
   "outputs": [],
   "source": [
    "Example:-"
   ]
  },
  {
   "cell_type": "code",
   "execution_count": null,
   "id": "eac44802-cd5b-469b-8e53-0a4d9ab147b2",
   "metadata": {},
   "outputs": [],
   "source": [
    "TNSERT INTO Customer\n",
    "( cast ID, customer name, age, city, salary) VALUES\n",
    "\n",
    "( 1,' sam; 26.' Delhi, 9000),\n",
    "( 2,' Ram; 19.' Bangalore, 110000), \n",
    "( 3,' Pam; 31.' Mumbai, 6000),\n",
    "( 4,' Jam; 42.' pune, 10000), "
   ]
  },
  {
   "cell_type": "code",
   "execution_count": null,
   "id": "2ae2e978-2c1e-459b-afba-8cbbefec07b9",
   "metadata": {},
   "outputs": [],
   "source": [
    "2) The DELETE statement removes a row or combination of rows from a table "
   ]
  },
  {
   "cell_type": "code",
   "execution_count": null,
   "id": "9c5939dd-31a2-416f-8710-1ca1f5326be7",
   "metadata": {},
   "outputs": [],
   "source": [
    "Example :- "
   ]
  },
  {
   "cell_type": "code",
   "execution_count": null,
   "id": "6f853985-bc9d-40f7-a7e2-aaf827e750cb",
   "metadata": {},
   "outputs": [],
   "source": [
    "DELETE FROM customer \n",
    "WHERE cust ID= 3"
   ]
  },
  {
   "cell_type": "code",
   "execution_count": null,
   "id": "f0899113-2663-4160-9779-d9841881c847",
   "metadata": {},
   "outputs": [],
   "source": [
    "3) The UPDATE statement enables users to updates a rows or groups of rows\n",
    "in a table."
   ]
  },
  {
   "cell_type": "code",
   "execution_count": null,
   "id": "2c966f82-1992-4b41-9fe2-c83bc4435519",
   "metadata": {},
   "outputs": [],
   "source": [
    "Examples:- "
   ]
  },
  {
   "cell_type": "code",
   "execution_count": null,
   "id": "b3879cc1-67c3-4d28-ac2e-4e41bf6eeaa2",
   "metadata": {},
   "outputs": [],
   "source": [
    "UPDATES customers\n",
    "SET cust name = ' xam', Age= 32 \n",
    "WHERE Cust ID = 4; "
   ]
  },
  {
   "cell_type": "code",
   "execution_count": null,
   "id": "885afe31-8a54-4b3c-b028-24da8325cfd4",
   "metadata": {},
   "outputs": [],
   "source": [
    "Q.4"
   ]
  },
  {
   "cell_type": "code",
   "execution_count": null,
   "id": "0fd6db7a-0908-43fd-af1c-6264f90989bb",
   "metadata": {},
   "outputs": [],
   "source": [
    "Data Query Language (DQL) \n",
    "\n",
    "Query language, often know as DQL or data Query Languages, are computer language that are used to \n",
    "make various query in information system & databases. "
   ]
  },
  {
   "cell_type": "code",
   "execution_count": null,
   "id": "1b14f0d1-dbe7-4a05-8d4e-ac20a1fa5045",
   "metadata": {},
   "outputs": [],
   "source": [
    "SELECT statements is used to select data from a databse."
   ]
  },
  {
   "cell_type": "code",
   "execution_count": null,
   "id": "ad38e9f5-4fa6-4f44-adef-f56d884e5f3b",
   "metadata": {},
   "outputs": [],
   "source": [
    "Examples:-"
   ]
  },
  {
   "cell_type": "code",
   "execution_count": null,
   "id": "c509d63a-1bcb-4121-ac17-83a1c5037724",
   "metadata": {},
   "outputs": [],
   "source": [
    "SELECT < column__one >,\n",
    "< Column__Two >,.... FROM\n",
    "< Column__One >=\n",
    "< Column__Value >;"
   ]
  },
  {
   "cell_type": "code",
   "execution_count": null,
   "id": "c0bd390e-0717-4111-9e01-f628d07c3dd9",
   "metadata": {},
   "outputs": [],
   "source": [
    "Q.5"
   ]
  },
  {
   "cell_type": "code",
   "execution_count": null,
   "id": "3c1c079f-d766-4c54-b205-4bd47b4aeb86",
   "metadata": {},
   "outputs": [],
   "source": [
    "1) Primary Key:- \n",
    "             A primary key is a column in a table that uniquely indefifies each row in the table.\n",
    "It cannot contain null values and must be unique across all rows in the table."
   ]
  },
  {
   "cell_type": "code",
   "execution_count": null,
   "id": "fb8cb119-45c5-4c3a-94e0-2d4382235bc7",
   "metadata": {},
   "outputs": [],
   "source": [
    "2)  Foreign Key:-\n",
    "              A foreign key is a column in a table that refers to the primary key in another table. \n",
    "It is used to establish a link between the two tables and used to enforce referentail inteqirity in the \n",
    "Database."
   ]
  },
  {
   "cell_type": "code",
   "execution_count": null,
   "id": "65d2a3a5-d3a6-4f36-b21a-86729c2dab91",
   "metadata": {},
   "outputs": [],
   "source": [
    "Q.6"
   ]
  },
  {
   "cell_type": "code",
   "execution_count": null,
   "id": "4d64360d-bba4-42e0-a240-57cbff2a288e",
   "metadata": {},
   "outputs": [],
   "source": [
    "import mysql.connector"
   ]
  },
  {
   "cell_type": "code",
   "execution_count": null,
   "id": "f3852fc5-9ddb-4980-9471-99cc3a48864c",
   "metadata": {},
   "outputs": [],
   "source": [
    "cnx= mysql.connector"
   ]
  },
  {
   "cell_type": "code",
   "execution_count": null,
   "id": "a6a4fc9c-83bb-461a-acd8-5a3f03492221",
   "metadata": {},
   "outputs": [],
   "source": [
    "connect ( user= ' scott: password= ' password\n",
    "         host= ' 127 .0.0.1;\n",
    "         database =' employees\") \n",
    "cnx.close()"
   ]
  },
  {
   "cell_type": "code",
   "execution_count": null,
   "id": "17088a46-8d9d-4ca3-b19d-6aff4cb96352",
   "metadata": {},
   "outputs": [],
   "source": [
    "# python cursor___object.python"
   ]
  },
  {
   "cell_type": "code",
   "execution_count": null,
   "id": "f1de28d4-4d48-4980-993a-3fc318931346",
   "metadata": {},
   "outputs": [],
   "source": [
    "# import the libary\n",
    "import mysql.connector"
   ]
  },
  {
   "cell_type": "code",
   "execution_count": null,
   "id": "23e0ac0a-8bb4-4865-b31c-78c8ae21363a",
   "metadata": {},
   "outputs": [],
   "source": [
    "# creating connect\n",
    "conn= mysql.connector. connect(\n",
    "    host= \" local host\",\n",
    "    users= \" sammy\",\n",
    "    password=password\n",
    ")        "
   ]
  },
  {
   "cell_type": "code",
   "execution_count": null,
   "id": "7405d0a2-67e3-4250-bf7f-ae08a6c57e1e",
   "metadata": {},
   "outputs": [],
   "source": [
    "# print the connection\n",
    "print ( conn )\n",
    "# import the cursor from the connection"
   ]
  },
  {
   "cell_type": "code",
   "execution_count": null,
   "id": "e9a796ac-c50b-452c-9928-e73a5abb067f",
   "metadata": {},
   "outputs": [],
   "source": [
    "mycursor= conn. cursor()\n",
    "# print the my cursor\n",
    "print (my cursor)"
   ]
  },
  {
   "cell_type": "code",
   "execution_count": null,
   "id": "d3d1c93b-6a15-49e0-bade-9cc306193213",
   "metadata": {},
   "outputs": [],
   "source": [
    "Q.7"
   ]
  },
  {
   "cell_type": "code",
   "execution_count": null,
   "id": "ba695586-a704-4148-bbb0-568cd9c2f5ee",
   "metadata": {},
   "outputs": [],
   "source": [
    "SQL queries adhere to a specific order when wvaluating clauses, similar to how mathematical operationa\n",
    "adhere to PEMDAS or BODMADS."
   ]
  },
  {
   "cell_type": "code",
   "execution_count": null,
   "id": "d0a654f5-1ff3-4401-bbd9-151b6b99f528",
   "metadata": {},
   "outputs": [],
   "source": [
    "Example:-"
   ]
  },
  {
   "cell_type": "code",
   "execution_count": null,
   "id": "d15471de-a120-4f4d-8e94-304943eb4ffb",
   "metadata": {},
   "outputs": [],
   "source": [
    "SELECT 0 name, \n",
    "        SUM ( 0 quantity* p.price) As total spent FROM orders 0\n",
    "JOIN Product P \n",
    "     ON 0 product__id= p.id\n",
    "WHERE P. name = 'pen'\n",
    "GROUP By. 0. name\n",
    "ORDER By total___spent DECS\n",
    "LIMIT 1 OFFSET 1;"
   ]
  }
 ],
 "metadata": {
  "kernelspec": {
   "display_name": "Python 3 (ipykernel)",
   "language": "python",
   "name": "python3"
  },
  "language_info": {
   "codemirror_mode": {
    "name": "ipython",
    "version": 3
   },
   "file_extension": ".py",
   "mimetype": "text/x-python",
   "name": "python",
   "nbconvert_exporter": "python",
   "pygments_lexer": "ipython3",
   "version": "3.10.8"
  }
 },
 "nbformat": 4,
 "nbformat_minor": 5
}
